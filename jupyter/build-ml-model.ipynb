{
 "cells": [
  {
   "cell_type": "markdown",
   "metadata": {},
   "source": [
    "Data from https://archive.ics.uci.edu/ml/datasets/Real+estate+valuation+data+set\n",
    "\n",
    "We keep it simple here and we just fit a simple linear regression model for the purpose\n",
    "of generating a model artifact that we can later deploy using SageMaker."
   ]
  },
  {
   "cell_type": "code",
   "execution_count": null,
   "metadata": {},
   "outputs": [],
   "source": [
    "import joblib\n",
    "import matplotlib.pyplot as plt\n",
    "import numpy as np\n",
    "import pandas as pd\n",
    "import seaborn as sns\n",
    "from sklearn.linear_model import LinearRegression"
   ]
  },
  {
   "cell_type": "code",
   "execution_count": null,
   "metadata": {},
   "outputs": [],
   "source": [
    "data = pd.read_csv(\"real-estate-valuation-data-set.csv\")"
   ]
  },
  {
   "cell_type": "code",
   "execution_count": null,
   "metadata": {},
   "outputs": [],
   "source": [
    "data.head()"
   ]
  },
  {
   "cell_type": "code",
   "execution_count": null,
   "metadata": {},
   "outputs": [],
   "source": [
    "_ = sns.scatterplot(\n",
    "    x=\"X3 distance to the nearest MRT station\",\n",
    "    y=\"Y house price of unit area\",\n",
    "    data=data,\n",
    ")"
   ]
  },
  {
   "cell_type": "markdown",
   "metadata": {},
   "source": [
    "Log the distance."
   ]
  },
  {
   "cell_type": "code",
   "execution_count": null,
   "metadata": {},
   "outputs": [],
   "source": [
    "data[\"log-distance\"] = np.log(data[\"X3 distance to the nearest MRT station\"])"
   ]
  },
  {
   "cell_type": "code",
   "execution_count": null,
   "metadata": {},
   "outputs": [],
   "source": [
    "data.rename(columns={\"Y house price of unit area\": \"unit-price\"}, inplace=True)"
   ]
  },
  {
   "cell_type": "code",
   "execution_count": null,
   "metadata": {},
   "outputs": [],
   "source": [
    "_ = sns.regplot(\n",
    "    x=\"log-distance\",\n",
    "    y=\"unit-price\",\n",
    "    data=data,\n",
    "    marker=\".\",\n",
    "    color=\"black\",\n",
    "    line_kws={\"color\": \"red\"},\n",
    "    ci=None,\n",
    ")\n",
    "# _ = plt.tight_layout()\n",
    "# _ = plt.savefig('./sns_linear_regression.png', dpi=300)"
   ]
  },
  {
   "cell_type": "code",
   "execution_count": null,
   "metadata": {},
   "outputs": [],
   "source": [
    "x = data[\"log-distance\"].values\n",
    "y = data[\"Y house price of unit area\"].values"
   ]
  },
  {
   "cell_type": "code",
   "execution_count": null,
   "metadata": {},
   "outputs": [],
   "source": [
    "linear_regression = LinearRegression().fit(x.reshape(-1, 1), y)"
   ]
  },
  {
   "cell_type": "code",
   "execution_count": null,
   "metadata": {},
   "outputs": [],
   "source": [
    "linear_regression.predict(np.log(100).reshape(1, -1))"
   ]
  },
  {
   "cell_type": "code",
   "execution_count": null,
   "metadata": {},
   "outputs": [],
   "source": [
    "joblib.dump(linear_regression, \"../cdk-ml/lib/docker/model.joblib\")"
   ]
  }
 ],
 "metadata": {
  "interpreter": {
   "hash": "86af60a9e20ffedfbdf1a9bf38b8bc1ae4d358af2251f62e5c33ccbbab191c76"
  },
  "kernelspec": {
   "display_name": "Python 3.9.7 64-bit ('chalice-sagemaker')",
   "language": "python",
   "name": "python3"
  },
  "language_info": {
   "codemirror_mode": {
    "name": "ipython",
    "version": 3
   },
   "file_extension": ".py",
   "mimetype": "text/x-python",
   "name": "python",
   "nbconvert_exporter": "python",
   "pygments_lexer": "ipython3",
   "version": "3.9.7"
  },
  "orig_nbformat": 4
 },
 "nbformat": 4,
 "nbformat_minor": 2
}
